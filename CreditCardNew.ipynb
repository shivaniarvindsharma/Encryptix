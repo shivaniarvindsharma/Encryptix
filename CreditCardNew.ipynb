{
 "cells": [
  {
   "cell_type": "code",
   "execution_count": 1,
   "id": "6a726529-28cf-45b0-8ba1-30c58103747e",
   "metadata": {},
   "outputs": [],
   "source": [
    "import pandas as pd\n",
    "import numpy as np\n",
    "import matplotlib.pyplot as plt\n",
    "from sklearn.model_selection import train_test_split\n",
    "from sklearn.tree import DecisionTreeClassifier\n",
    "from sklearn.metrics import accuracy_score,classification_report,confusion_matrix\n",
    "from sklearn.preprocessing import LabelEncoder"
   ]
  },
  {
   "cell_type": "code",
   "execution_count": 2,
   "id": "ec2f0c63-58bb-4b7a-b54e-8c089e1cc417",
   "metadata": {},
   "outputs": [
    {
     "data": {
      "text/html": [
       "<div>\n",
       "<style scoped>\n",
       "    .dataframe tbody tr th:only-of-type {\n",
       "        vertical-align: middle;\n",
       "    }\n",
       "\n",
       "    .dataframe tbody tr th {\n",
       "        vertical-align: top;\n",
       "    }\n",
       "\n",
       "    .dataframe thead th {\n",
       "        text-align: right;\n",
       "    }\n",
       "</style>\n",
       "<table border=\"1\" class=\"dataframe\">\n",
       "  <thead>\n",
       "    <tr style=\"text-align: right;\">\n",
       "      <th></th>\n",
       "      <th>Unnamed: 0</th>\n",
       "      <th>trans_date_trans_time</th>\n",
       "      <th>cc_num</th>\n",
       "      <th>merchant</th>\n",
       "      <th>category</th>\n",
       "      <th>amt</th>\n",
       "      <th>first</th>\n",
       "      <th>last</th>\n",
       "      <th>gender</th>\n",
       "      <th>street</th>\n",
       "      <th>...</th>\n",
       "      <th>lat</th>\n",
       "      <th>long</th>\n",
       "      <th>city_pop</th>\n",
       "      <th>job</th>\n",
       "      <th>dob</th>\n",
       "      <th>trans_num</th>\n",
       "      <th>unix_time</th>\n",
       "      <th>merch_lat</th>\n",
       "      <th>merch_long</th>\n",
       "      <th>is_fraud</th>\n",
       "    </tr>\n",
       "  </thead>\n",
       "  <tbody>\n",
       "    <tr>\n",
       "      <th>0</th>\n",
       "      <td>0</td>\n",
       "      <td>2020-06-21 12:14:25</td>\n",
       "      <td>2291163933867244</td>\n",
       "      <td>fraud_Kirlin and Sons</td>\n",
       "      <td>personal_care</td>\n",
       "      <td>2.86</td>\n",
       "      <td>Jeff</td>\n",
       "      <td>Elliott</td>\n",
       "      <td>M</td>\n",
       "      <td>351 Darlene Green</td>\n",
       "      <td>...</td>\n",
       "      <td>33.9659</td>\n",
       "      <td>-80.9355</td>\n",
       "      <td>333497</td>\n",
       "      <td>Mechanical engineer</td>\n",
       "      <td>1968-03-19</td>\n",
       "      <td>2da90c7d74bd46a0caf3777415b3ebd3</td>\n",
       "      <td>1371816865</td>\n",
       "      <td>33.986391</td>\n",
       "      <td>-81.200714</td>\n",
       "      <td>0</td>\n",
       "    </tr>\n",
       "    <tr>\n",
       "      <th>1</th>\n",
       "      <td>1</td>\n",
       "      <td>2020-06-21 12:14:33</td>\n",
       "      <td>3573030041201292</td>\n",
       "      <td>fraud_Sporer-Keebler</td>\n",
       "      <td>personal_care</td>\n",
       "      <td>29.84</td>\n",
       "      <td>Joanne</td>\n",
       "      <td>Williams</td>\n",
       "      <td>F</td>\n",
       "      <td>3638 Marsh Union</td>\n",
       "      <td>...</td>\n",
       "      <td>40.3207</td>\n",
       "      <td>-110.4360</td>\n",
       "      <td>302</td>\n",
       "      <td>Sales professional, IT</td>\n",
       "      <td>1990-01-17</td>\n",
       "      <td>324cc204407e99f51b0d6ca0055005e7</td>\n",
       "      <td>1371816873</td>\n",
       "      <td>39.450498</td>\n",
       "      <td>-109.960431</td>\n",
       "      <td>0</td>\n",
       "    </tr>\n",
       "    <tr>\n",
       "      <th>2</th>\n",
       "      <td>2</td>\n",
       "      <td>2020-06-21 12:14:53</td>\n",
       "      <td>3598215285024754</td>\n",
       "      <td>fraud_Swaniawski, Nitzsche and Welch</td>\n",
       "      <td>health_fitness</td>\n",
       "      <td>41.28</td>\n",
       "      <td>Ashley</td>\n",
       "      <td>Lopez</td>\n",
       "      <td>F</td>\n",
       "      <td>9333 Valentine Point</td>\n",
       "      <td>...</td>\n",
       "      <td>40.6729</td>\n",
       "      <td>-73.5365</td>\n",
       "      <td>34496</td>\n",
       "      <td>Librarian, public</td>\n",
       "      <td>1970-10-21</td>\n",
       "      <td>c81755dbbbea9d5c77f094348a7579be</td>\n",
       "      <td>1371816893</td>\n",
       "      <td>40.495810</td>\n",
       "      <td>-74.196111</td>\n",
       "      <td>0</td>\n",
       "    </tr>\n",
       "    <tr>\n",
       "      <th>3</th>\n",
       "      <td>3</td>\n",
       "      <td>2020-06-21 12:15:15</td>\n",
       "      <td>3591919803438423</td>\n",
       "      <td>fraud_Haley Group</td>\n",
       "      <td>misc_pos</td>\n",
       "      <td>60.05</td>\n",
       "      <td>Brian</td>\n",
       "      <td>Williams</td>\n",
       "      <td>M</td>\n",
       "      <td>32941 Krystal Mill Apt. 552</td>\n",
       "      <td>...</td>\n",
       "      <td>28.5697</td>\n",
       "      <td>-80.8191</td>\n",
       "      <td>54767</td>\n",
       "      <td>Set designer</td>\n",
       "      <td>1987-07-25</td>\n",
       "      <td>2159175b9efe66dc301f149d3d5abf8c</td>\n",
       "      <td>1371816915</td>\n",
       "      <td>28.812398</td>\n",
       "      <td>-80.883061</td>\n",
       "      <td>0</td>\n",
       "    </tr>\n",
       "    <tr>\n",
       "      <th>4</th>\n",
       "      <td>4</td>\n",
       "      <td>2020-06-21 12:15:17</td>\n",
       "      <td>3526826139003047</td>\n",
       "      <td>fraud_Johnston-Casper</td>\n",
       "      <td>travel</td>\n",
       "      <td>3.19</td>\n",
       "      <td>Nathan</td>\n",
       "      <td>Massey</td>\n",
       "      <td>M</td>\n",
       "      <td>5783 Evan Roads Apt. 465</td>\n",
       "      <td>...</td>\n",
       "      <td>44.2529</td>\n",
       "      <td>-85.0170</td>\n",
       "      <td>1126</td>\n",
       "      <td>Furniture designer</td>\n",
       "      <td>1955-07-06</td>\n",
       "      <td>57ff021bd3f328f8738bb535c302a31b</td>\n",
       "      <td>1371816917</td>\n",
       "      <td>44.959148</td>\n",
       "      <td>-85.884734</td>\n",
       "      <td>0</td>\n",
       "    </tr>\n",
       "  </tbody>\n",
       "</table>\n",
       "<p>5 rows × 23 columns</p>\n",
       "</div>"
      ],
      "text/plain": [
       "   Unnamed: 0 trans_date_trans_time            cc_num  \\\n",
       "0           0   2020-06-21 12:14:25  2291163933867244   \n",
       "1           1   2020-06-21 12:14:33  3573030041201292   \n",
       "2           2   2020-06-21 12:14:53  3598215285024754   \n",
       "3           3   2020-06-21 12:15:15  3591919803438423   \n",
       "4           4   2020-06-21 12:15:17  3526826139003047   \n",
       "\n",
       "                               merchant        category    amt   first  \\\n",
       "0                 fraud_Kirlin and Sons   personal_care   2.86    Jeff   \n",
       "1                  fraud_Sporer-Keebler   personal_care  29.84  Joanne   \n",
       "2  fraud_Swaniawski, Nitzsche and Welch  health_fitness  41.28  Ashley   \n",
       "3                     fraud_Haley Group        misc_pos  60.05   Brian   \n",
       "4                 fraud_Johnston-Casper          travel   3.19  Nathan   \n",
       "\n",
       "       last gender                       street  ...      lat      long  \\\n",
       "0   Elliott      M            351 Darlene Green  ...  33.9659  -80.9355   \n",
       "1  Williams      F             3638 Marsh Union  ...  40.3207 -110.4360   \n",
       "2     Lopez      F         9333 Valentine Point  ...  40.6729  -73.5365   \n",
       "3  Williams      M  32941 Krystal Mill Apt. 552  ...  28.5697  -80.8191   \n",
       "4    Massey      M     5783 Evan Roads Apt. 465  ...  44.2529  -85.0170   \n",
       "\n",
       "   city_pop                     job         dob  \\\n",
       "0    333497     Mechanical engineer  1968-03-19   \n",
       "1       302  Sales professional, IT  1990-01-17   \n",
       "2     34496       Librarian, public  1970-10-21   \n",
       "3     54767            Set designer  1987-07-25   \n",
       "4      1126      Furniture designer  1955-07-06   \n",
       "\n",
       "                          trans_num   unix_time  merch_lat  merch_long  \\\n",
       "0  2da90c7d74bd46a0caf3777415b3ebd3  1371816865  33.986391  -81.200714   \n",
       "1  324cc204407e99f51b0d6ca0055005e7  1371816873  39.450498 -109.960431   \n",
       "2  c81755dbbbea9d5c77f094348a7579be  1371816893  40.495810  -74.196111   \n",
       "3  2159175b9efe66dc301f149d3d5abf8c  1371816915  28.812398  -80.883061   \n",
       "4  57ff021bd3f328f8738bb535c302a31b  1371816917  44.959148  -85.884734   \n",
       "\n",
       "   is_fraud  \n",
       "0         0  \n",
       "1         0  \n",
       "2         0  \n",
       "3         0  \n",
       "4         0  \n",
       "\n",
       "[5 rows x 23 columns]"
      ]
     },
     "execution_count": 2,
     "metadata": {},
     "output_type": "execute_result"
    }
   ],
   "source": [
    "df=pd.read_csv('fraudTest.csv')\n",
    "df.head()"
   ]
  },
  {
   "cell_type": "code",
   "execution_count": 3,
   "id": "d7cfc856-273e-4c19-885e-67770d3079a1",
   "metadata": {},
   "outputs": [],
   "source": [
    "df=df.drop(['Unnamed: 0','cc_num','merchant','first','last','street','unix_time'],axis=1)"
   ]
  },
  {
   "cell_type": "code",
   "execution_count": 4,
   "id": "734e4b13-8edf-4fb8-ae1c-a61781e7ed7d",
   "metadata": {},
   "outputs": [],
   "source": [
    "df=df.dropna()"
   ]
  },
  {
   "cell_type": "code",
   "execution_count": 5,
   "id": "3ea25fe3-27cf-4c81-bf09-a36c102bc856",
   "metadata": {},
   "outputs": [
    {
     "data": {
      "text/plain": [
       "False"
      ]
     },
     "execution_count": 5,
     "metadata": {},
     "output_type": "execute_result"
    }
   ],
   "source": [
    "# no null value exist->false\n",
    "df.isnull().values.any()"
   ]
  },
  {
   "cell_type": "code",
   "execution_count": 6,
   "id": "a95f1874-7bc4-45a8-ba00-667b1666f3f1",
   "metadata": {},
   "outputs": [
    {
     "data": {
      "text/plain": [
       "trans_date_trans_time    0\n",
       "category                 0\n",
       "amt                      0\n",
       "gender                   0\n",
       "city                     0\n",
       "state                    0\n",
       "zip                      0\n",
       "lat                      0\n",
       "long                     0\n",
       "city_pop                 0\n",
       "job                      0\n",
       "dob                      0\n",
       "trans_num                0\n",
       "merch_lat                0\n",
       "merch_long               0\n",
       "is_fraud                 0\n",
       "dtype: int64"
      ]
     },
     "execution_count": 6,
     "metadata": {},
     "output_type": "execute_result"
    }
   ],
   "source": [
    "df.isnull().sum()"
   ]
  },
  {
   "cell_type": "code",
   "execution_count": 7,
   "id": "91841ede-cb18-4002-81e8-e4e182513f8f",
   "metadata": {},
   "outputs": [
    {
     "name": "stdout",
     "output_type": "stream",
     "text": [
      "<class 'pandas.core.frame.DataFrame'>\n",
      "RangeIndex: 555719 entries, 0 to 555718\n",
      "Data columns (total 16 columns):\n",
      " #   Column                 Non-Null Count   Dtype  \n",
      "---  ------                 --------------   -----  \n",
      " 0   trans_date_trans_time  555719 non-null  object \n",
      " 1   category               555719 non-null  object \n",
      " 2   amt                    555719 non-null  float64\n",
      " 3   gender                 555719 non-null  object \n",
      " 4   city                   555719 non-null  object \n",
      " 5   state                  555719 non-null  object \n",
      " 6   zip                    555719 non-null  int64  \n",
      " 7   lat                    555719 non-null  float64\n",
      " 8   long                   555719 non-null  float64\n",
      " 9   city_pop               555719 non-null  int64  \n",
      " 10  job                    555719 non-null  object \n",
      " 11  dob                    555719 non-null  object \n",
      " 12  trans_num              555719 non-null  object \n",
      " 13  merch_lat              555719 non-null  float64\n",
      " 14  merch_long             555719 non-null  float64\n",
      " 15  is_fraud               555719 non-null  int64  \n",
      "dtypes: float64(5), int64(3), object(8)\n",
      "memory usage: 67.8+ MB\n"
     ]
    }
   ],
   "source": [
    "df.info()"
   ]
  },
  {
   "cell_type": "code",
   "execution_count": 8,
   "id": "c85eae35-4994-4769-a336-fa68a5d9479f",
   "metadata": {},
   "outputs": [
    {
     "name": "stdout",
     "output_type": "stream",
     "text": [
      "Number of Fraud Cases: 2145\n"
     ]
    }
   ],
   "source": [
    " fraud_cases=len(df[df['is_fraud']==1])\n",
    "print('Number of Fraud Cases:',fraud_cases)"
   ]
  },
  {
   "cell_type": "code",
   "execution_count": 9,
   "id": "0ceb4961-62b3-473e-8400-f684cc16fbf3",
   "metadata": {},
   "outputs": [
    {
     "name": "stdout",
     "output_type": "stream",
     "text": [
      "Number of non fraud cases: 553574\n"
     ]
    }
   ],
   "source": [
    "non_fraud_cases=len(df[df['is_fraud']==0])\n",
    "print('Number of non fraud cases:',non_fraud_cases)"
   ]
  },
  {
   "cell_type": "code",
   "execution_count": 10,
   "id": "62690475-d3ed-4956-9efe-0c2ffcb7114f",
   "metadata": {},
   "outputs": [],
   "source": [
    "fraud_data=df[df['is_fraud']==1]\n",
    "normal_data=df[df['is_fraud']==0]"
   ]
  },
  {
   "cell_type": "code",
   "execution_count": 11,
   "id": "cf4d58a5-abb5-4630-84a8-1d7a4969df13",
   "metadata": {},
   "outputs": [],
   "source": [
    "X = df.drop(['is_fraud'], axis=1)\n",
    "y = df['is_fraud']\n"
   ]
  },
  {
   "cell_type": "code",
   "execution_count": 12,
   "id": "120f3c7d-b9a3-45ae-928b-b76ac132ee53",
   "metadata": {},
   "outputs": [],
   "source": [
    "label_encoder = LabelEncoder()\n",
    "X_encoded = X.copy()\n",
    "\n",
    "categorical_cols = X.select_dtypes(include=['object']).columns\n",
    "for col in categorical_cols:\n",
    "    X_encoded[col]=label_encoder.fit_transform(X[col])\n"
   ]
  },
  {
   "cell_type": "code",
   "execution_count": 13,
   "id": "b07009a5-cbd8-46bc-aa4f-646f171034cf",
   "metadata": {},
   "outputs": [
    {
     "data": {
      "text/html": [
       "<div>\n",
       "<style scoped>\n",
       "    .dataframe tbody tr th:only-of-type {\n",
       "        vertical-align: middle;\n",
       "    }\n",
       "\n",
       "    .dataframe tbody tr th {\n",
       "        vertical-align: top;\n",
       "    }\n",
       "\n",
       "    .dataframe thead th {\n",
       "        text-align: right;\n",
       "    }\n",
       "</style>\n",
       "<table border=\"1\" class=\"dataframe\">\n",
       "  <thead>\n",
       "    <tr style=\"text-align: right;\">\n",
       "      <th></th>\n",
       "      <th>trans_date_trans_time</th>\n",
       "      <th>category</th>\n",
       "      <th>amt</th>\n",
       "      <th>gender</th>\n",
       "      <th>city</th>\n",
       "      <th>state</th>\n",
       "      <th>zip</th>\n",
       "      <th>lat</th>\n",
       "      <th>long</th>\n",
       "      <th>city_pop</th>\n",
       "      <th>job</th>\n",
       "      <th>dob</th>\n",
       "      <th>trans_num</th>\n",
       "      <th>merch_lat</th>\n",
       "      <th>merch_long</th>\n",
       "    </tr>\n",
       "  </thead>\n",
       "  <tbody>\n",
       "    <tr>\n",
       "      <th>0</th>\n",
       "      <td>0</td>\n",
       "      <td>10</td>\n",
       "      <td>2.86</td>\n",
       "      <td>1</td>\n",
       "      <td>157</td>\n",
       "      <td>39</td>\n",
       "      <td>29209</td>\n",
       "      <td>33.9659</td>\n",
       "      <td>-80.9355</td>\n",
       "      <td>333497</td>\n",
       "      <td>275</td>\n",
       "      <td>376</td>\n",
       "      <td>98699</td>\n",
       "      <td>33.986391</td>\n",
       "      <td>-81.200714</td>\n",
       "    </tr>\n",
       "    <tr>\n",
       "      <th>1</th>\n",
       "      <td>1</td>\n",
       "      <td>10</td>\n",
       "      <td>29.84</td>\n",
       "      <td>0</td>\n",
       "      <td>16</td>\n",
       "      <td>43</td>\n",
       "      <td>84002</td>\n",
       "      <td>40.3207</td>\n",
       "      <td>-110.4360</td>\n",
       "      <td>302</td>\n",
       "      <td>392</td>\n",
       "      <td>760</td>\n",
       "      <td>108785</td>\n",
       "      <td>39.450498</td>\n",
       "      <td>-109.960431</td>\n",
       "    </tr>\n",
       "    <tr>\n",
       "      <th>2</th>\n",
       "      <td>2</td>\n",
       "      <td>5</td>\n",
       "      <td>41.28</td>\n",
       "      <td>0</td>\n",
       "      <td>61</td>\n",
       "      <td>33</td>\n",
       "      <td>11710</td>\n",
       "      <td>40.6729</td>\n",
       "      <td>-73.5365</td>\n",
       "      <td>34496</td>\n",
       "      <td>259</td>\n",
       "      <td>421</td>\n",
       "      <td>433979</td>\n",
       "      <td>40.495810</td>\n",
       "      <td>-74.196111</td>\n",
       "    </tr>\n",
       "    <tr>\n",
       "      <th>3</th>\n",
       "      <td>3</td>\n",
       "      <td>9</td>\n",
       "      <td>60.05</td>\n",
       "      <td>1</td>\n",
       "      <td>764</td>\n",
       "      <td>8</td>\n",
       "      <td>32780</td>\n",
       "      <td>28.5697</td>\n",
       "      <td>-80.8191</td>\n",
       "      <td>54767</td>\n",
       "      <td>407</td>\n",
       "      <td>718</td>\n",
       "      <td>71993</td>\n",
       "      <td>28.812398</td>\n",
       "      <td>-80.883061</td>\n",
       "    </tr>\n",
       "    <tr>\n",
       "      <th>4</th>\n",
       "      <td>4</td>\n",
       "      <td>13</td>\n",
       "      <td>3.19</td>\n",
       "      <td>1</td>\n",
       "      <td>247</td>\n",
       "      <td>21</td>\n",
       "      <td>49632</td>\n",
       "      <td>44.2529</td>\n",
       "      <td>-85.0170</td>\n",
       "      <td>1126</td>\n",
       "      <td>196</td>\n",
       "      <td>177</td>\n",
       "      <td>190585</td>\n",
       "      <td>44.959148</td>\n",
       "      <td>-85.884734</td>\n",
       "    </tr>\n",
       "    <tr>\n",
       "      <th>...</th>\n",
       "      <td>...</td>\n",
       "      <td>...</td>\n",
       "      <td>...</td>\n",
       "      <td>...</td>\n",
       "      <td>...</td>\n",
       "      <td>...</td>\n",
       "      <td>...</td>\n",
       "      <td>...</td>\n",
       "      <td>...</td>\n",
       "      <td>...</td>\n",
       "      <td>...</td>\n",
       "      <td>...</td>\n",
       "      <td>...</td>\n",
       "      <td>...</td>\n",
       "      <td>...</td>\n",
       "    </tr>\n",
       "    <tr>\n",
       "      <th>555714</th>\n",
       "      <td>544755</td>\n",
       "      <td>5</td>\n",
       "      <td>43.77</td>\n",
       "      <td>1</td>\n",
       "      <td>443</td>\n",
       "      <td>23</td>\n",
       "      <td>63453</td>\n",
       "      <td>40.4931</td>\n",
       "      <td>-91.8912</td>\n",
       "      <td>519</td>\n",
       "      <td>460</td>\n",
       "      <td>334</td>\n",
       "      <td>336391</td>\n",
       "      <td>39.946837</td>\n",
       "      <td>-91.333331</td>\n",
       "    </tr>\n",
       "    <tr>\n",
       "      <th>555715</th>\n",
       "      <td>544756</td>\n",
       "      <td>7</td>\n",
       "      <td>111.84</td>\n",
       "      <td>1</td>\n",
       "      <td>401</td>\n",
       "      <td>42</td>\n",
       "      <td>77566</td>\n",
       "      <td>29.0393</td>\n",
       "      <td>-95.4401</td>\n",
       "      <td>28739</td>\n",
       "      <td>198</td>\n",
       "      <td>890</td>\n",
       "      <td>70372</td>\n",
       "      <td>29.661049</td>\n",
       "      <td>-96.186633</td>\n",
       "    </tr>\n",
       "    <tr>\n",
       "      <th>555716</th>\n",
       "      <td>544757</td>\n",
       "      <td>7</td>\n",
       "      <td>86.88</td>\n",
       "      <td>0</td>\n",
       "      <td>104</td>\n",
       "      <td>46</td>\n",
       "      <td>99323</td>\n",
       "      <td>46.1966</td>\n",
       "      <td>-118.9017</td>\n",
       "      <td>3684</td>\n",
       "      <td>294</td>\n",
       "      <td>609</td>\n",
       "      <td>235088</td>\n",
       "      <td>46.658340</td>\n",
       "      <td>-119.715054</td>\n",
       "    </tr>\n",
       "    <tr>\n",
       "      <th>555717</th>\n",
       "      <td>544758</td>\n",
       "      <td>13</td>\n",
       "      <td>7.99</td>\n",
       "      <td>1</td>\n",
       "      <td>476</td>\n",
       "      <td>12</td>\n",
       "      <td>83643</td>\n",
       "      <td>44.6255</td>\n",
       "      <td>-116.4493</td>\n",
       "      <td>129</td>\n",
       "      <td>58</td>\n",
       "      <td>331</td>\n",
       "      <td>43546</td>\n",
       "      <td>44.470525</td>\n",
       "      <td>-117.080888</td>\n",
       "    </tr>\n",
       "    <tr>\n",
       "      <th>555718</th>\n",
       "      <td>544759</td>\n",
       "      <td>0</td>\n",
       "      <td>38.13</td>\n",
       "      <td>1</td>\n",
       "      <td>224</td>\n",
       "      <td>35</td>\n",
       "      <td>73034</td>\n",
       "      <td>35.6665</td>\n",
       "      <td>-97.4798</td>\n",
       "      <td>116001</td>\n",
       "      <td>276</td>\n",
       "      <td>813</td>\n",
       "      <td>50595</td>\n",
       "      <td>36.210097</td>\n",
       "      <td>-97.036372</td>\n",
       "    </tr>\n",
       "  </tbody>\n",
       "</table>\n",
       "<p>555719 rows × 15 columns</p>\n",
       "</div>"
      ],
      "text/plain": [
       "        trans_date_trans_time  category     amt  gender  city  state    zip  \\\n",
       "0                           0        10    2.86       1   157     39  29209   \n",
       "1                           1        10   29.84       0    16     43  84002   \n",
       "2                           2         5   41.28       0    61     33  11710   \n",
       "3                           3         9   60.05       1   764      8  32780   \n",
       "4                           4        13    3.19       1   247     21  49632   \n",
       "...                       ...       ...     ...     ...   ...    ...    ...   \n",
       "555714                 544755         5   43.77       1   443     23  63453   \n",
       "555715                 544756         7  111.84       1   401     42  77566   \n",
       "555716                 544757         7   86.88       0   104     46  99323   \n",
       "555717                 544758        13    7.99       1   476     12  83643   \n",
       "555718                 544759         0   38.13       1   224     35  73034   \n",
       "\n",
       "            lat      long  city_pop  job  dob  trans_num  merch_lat  \\\n",
       "0       33.9659  -80.9355    333497  275  376      98699  33.986391   \n",
       "1       40.3207 -110.4360       302  392  760     108785  39.450498   \n",
       "2       40.6729  -73.5365     34496  259  421     433979  40.495810   \n",
       "3       28.5697  -80.8191     54767  407  718      71993  28.812398   \n",
       "4       44.2529  -85.0170      1126  196  177     190585  44.959148   \n",
       "...         ...       ...       ...  ...  ...        ...        ...   \n",
       "555714  40.4931  -91.8912       519  460  334     336391  39.946837   \n",
       "555715  29.0393  -95.4401     28739  198  890      70372  29.661049   \n",
       "555716  46.1966 -118.9017      3684  294  609     235088  46.658340   \n",
       "555717  44.6255 -116.4493       129   58  331      43546  44.470525   \n",
       "555718  35.6665  -97.4798    116001  276  813      50595  36.210097   \n",
       "\n",
       "        merch_long  \n",
       "0       -81.200714  \n",
       "1      -109.960431  \n",
       "2       -74.196111  \n",
       "3       -80.883061  \n",
       "4       -85.884734  \n",
       "...            ...  \n",
       "555714  -91.333331  \n",
       "555715  -96.186633  \n",
       "555716 -119.715054  \n",
       "555717 -117.080888  \n",
       "555718  -97.036372  \n",
       "\n",
       "[555719 rows x 15 columns]"
      ]
     },
     "execution_count": 13,
     "metadata": {},
     "output_type": "execute_result"
    }
   ],
   "source": [
    "X_encoded"
   ]
  },
  {
   "cell_type": "code",
   "execution_count": 14,
   "id": "6b6a4ecd-c6f9-4b0f-bc6e-c5c96abab7f1",
   "metadata": {},
   "outputs": [],
   "source": [
    "data=X_encoded[['trans_date_trans_time','category','amt','gender','city','state','lat','zip','long','city_pop','trans_num','merch_lat','merch_long']]"
   ]
  },
  {
   "cell_type": "code",
   "execution_count": 15,
   "id": "a4b430d6-15f6-4ffd-8ac0-0d8c1ff41840",
   "metadata": {},
   "outputs": [
    {
     "name": "stdout",
     "output_type": "stream",
     "text": [
      "                       trans_date_trans_time  category       amt    gender  \\\n",
      "trans_date_trans_time               1.000000  0.001470 -0.001132 -0.000482   \n",
      "category                            0.001470  1.000000  0.026811 -0.027684   \n",
      "amt                                -0.001132  0.026811  1.000000  0.000027   \n",
      "gender                             -0.000482 -0.027684  0.000027  1.000000   \n",
      "city                               -0.001772 -0.001949  0.000576  0.016914   \n",
      "state                              -0.000133  0.000169 -0.002561 -0.030149   \n",
      "lat                                 0.000334 -0.008215  0.002339  0.042692   \n",
      "zip                                 0.001476  0.004510  0.002310 -0.066467   \n",
      "long                               -0.001556 -0.002902 -0.002046  0.051235   \n",
      "city_pop                           -0.000793  0.009164  0.002760 -0.029367   \n",
      "trans_num                           0.001367 -0.001348 -0.002609 -0.000446   \n",
      "merch_lat                           0.000393 -0.008180  0.002404  0.042569   \n",
      "merch_long                         -0.001583 -0.002967 -0.002053  0.051203   \n",
      "\n",
      "                           city     state       lat       zip      long  \\\n",
      "trans_date_trans_time -0.001772 -0.000133  0.000334  0.001476 -0.001556   \n",
      "category              -0.001949  0.000169 -0.008215  0.004510 -0.002902   \n",
      "amt                    0.000576 -0.002561  0.002339  0.002310 -0.002046   \n",
      "gender                 0.016914 -0.030149  0.042692 -0.066467  0.051235   \n",
      "city                   1.000000 -0.041665 -0.029359  0.076304 -0.068117   \n",
      "state                 -0.041665  1.000000  0.213116 -0.112426  0.126008   \n",
      "lat                   -0.029359  0.213116  1.000000 -0.115173 -0.012892   \n",
      "zip                    0.076304 -0.112426 -0.115173  1.000000 -0.909942   \n",
      "long                  -0.068117  0.126008 -0.012892 -0.909942  1.000000   \n",
      "city_pop               0.034884 -0.011885 -0.152666  0.075571 -0.051524   \n",
      "trans_num             -0.000003  0.002501 -0.000206 -0.001021  0.000726   \n",
      "merch_lat             -0.028986  0.211977  0.993557 -0.114809 -0.012551   \n",
      "merch_long            -0.068009  0.125936 -0.012831 -0.909117  0.999115   \n",
      "\n",
      "                       city_pop  trans_num  merch_lat  merch_long  \n",
      "trans_date_trans_time -0.000793   0.001367   0.000393   -0.001583  \n",
      "category               0.009164  -0.001348  -0.008180   -0.002967  \n",
      "amt                    0.002760  -0.002609   0.002404   -0.002053  \n",
      "gender                -0.029367  -0.000446   0.042569    0.051203  \n",
      "city                   0.034884  -0.000003  -0.028986   -0.068009  \n",
      "state                 -0.011885   0.002501   0.211977    0.125936  \n",
      "lat                   -0.152666  -0.000206   0.993557   -0.012831  \n",
      "zip                    0.075571  -0.001021  -0.114809   -0.909117  \n",
      "long                  -0.051524   0.000726  -0.012551    0.999115  \n",
      "city_pop               1.000000   0.000842  -0.151703   -0.051489  \n",
      "trans_num              0.000842   1.000000  -0.000403    0.000777  \n",
      "merch_lat             -0.151703  -0.000403   1.000000   -0.012496  \n",
      "merch_long            -0.051489   0.000777  -0.012496    1.000000  \n"
     ]
    }
   ],
   "source": [
    "correlation_matrix = data.corr()\n",
    "print(correlation_matrix)"
   ]
  },
  {
   "cell_type": "code",
   "execution_count": 16,
   "id": "d962f4ee-8a09-4cfe-8bd0-08dc4fc3823d",
   "metadata": {},
   "outputs": [],
   "source": [
    "X=X_encoded.drop(['trans_date_trans_time','trans_num','merch_lat','merch_long'],axis=1)"
   ]
  },
  {
   "cell_type": "code",
   "execution_count": 17,
   "id": "74bf6f7c-f119-4154-b815-1e77b1a5e98b",
   "metadata": {},
   "outputs": [
    {
     "data": {
      "text/html": [
       "<div>\n",
       "<style scoped>\n",
       "    .dataframe tbody tr th:only-of-type {\n",
       "        vertical-align: middle;\n",
       "    }\n",
       "\n",
       "    .dataframe tbody tr th {\n",
       "        vertical-align: top;\n",
       "    }\n",
       "\n",
       "    .dataframe thead th {\n",
       "        text-align: right;\n",
       "    }\n",
       "</style>\n",
       "<table border=\"1\" class=\"dataframe\">\n",
       "  <thead>\n",
       "    <tr style=\"text-align: right;\">\n",
       "      <th></th>\n",
       "      <th>category</th>\n",
       "      <th>amt</th>\n",
       "      <th>gender</th>\n",
       "      <th>city</th>\n",
       "      <th>state</th>\n",
       "      <th>zip</th>\n",
       "      <th>lat</th>\n",
       "      <th>long</th>\n",
       "      <th>city_pop</th>\n",
       "      <th>job</th>\n",
       "      <th>dob</th>\n",
       "    </tr>\n",
       "  </thead>\n",
       "  <tbody>\n",
       "    <tr>\n",
       "      <th>0</th>\n",
       "      <td>10</td>\n",
       "      <td>2.86</td>\n",
       "      <td>1</td>\n",
       "      <td>157</td>\n",
       "      <td>39</td>\n",
       "      <td>29209</td>\n",
       "      <td>33.9659</td>\n",
       "      <td>-80.9355</td>\n",
       "      <td>333497</td>\n",
       "      <td>275</td>\n",
       "      <td>376</td>\n",
       "    </tr>\n",
       "    <tr>\n",
       "      <th>1</th>\n",
       "      <td>10</td>\n",
       "      <td>29.84</td>\n",
       "      <td>0</td>\n",
       "      <td>16</td>\n",
       "      <td>43</td>\n",
       "      <td>84002</td>\n",
       "      <td>40.3207</td>\n",
       "      <td>-110.4360</td>\n",
       "      <td>302</td>\n",
       "      <td>392</td>\n",
       "      <td>760</td>\n",
       "    </tr>\n",
       "    <tr>\n",
       "      <th>2</th>\n",
       "      <td>5</td>\n",
       "      <td>41.28</td>\n",
       "      <td>0</td>\n",
       "      <td>61</td>\n",
       "      <td>33</td>\n",
       "      <td>11710</td>\n",
       "      <td>40.6729</td>\n",
       "      <td>-73.5365</td>\n",
       "      <td>34496</td>\n",
       "      <td>259</td>\n",
       "      <td>421</td>\n",
       "    </tr>\n",
       "    <tr>\n",
       "      <th>3</th>\n",
       "      <td>9</td>\n",
       "      <td>60.05</td>\n",
       "      <td>1</td>\n",
       "      <td>764</td>\n",
       "      <td>8</td>\n",
       "      <td>32780</td>\n",
       "      <td>28.5697</td>\n",
       "      <td>-80.8191</td>\n",
       "      <td>54767</td>\n",
       "      <td>407</td>\n",
       "      <td>718</td>\n",
       "    </tr>\n",
       "    <tr>\n",
       "      <th>4</th>\n",
       "      <td>13</td>\n",
       "      <td>3.19</td>\n",
       "      <td>1</td>\n",
       "      <td>247</td>\n",
       "      <td>21</td>\n",
       "      <td>49632</td>\n",
       "      <td>44.2529</td>\n",
       "      <td>-85.0170</td>\n",
       "      <td>1126</td>\n",
       "      <td>196</td>\n",
       "      <td>177</td>\n",
       "    </tr>\n",
       "  </tbody>\n",
       "</table>\n",
       "</div>"
      ],
      "text/plain": [
       "   category    amt  gender  city  state    zip      lat      long  city_pop  \\\n",
       "0        10   2.86       1   157     39  29209  33.9659  -80.9355    333497   \n",
       "1        10  29.84       0    16     43  84002  40.3207 -110.4360       302   \n",
       "2         5  41.28       0    61     33  11710  40.6729  -73.5365     34496   \n",
       "3         9  60.05       1   764      8  32780  28.5697  -80.8191     54767   \n",
       "4        13   3.19       1   247     21  49632  44.2529  -85.0170      1126   \n",
       "\n",
       "   job  dob  \n",
       "0  275  376  \n",
       "1  392  760  \n",
       "2  259  421  \n",
       "3  407  718  \n",
       "4  196  177  "
      ]
     },
     "execution_count": 17,
     "metadata": {},
     "output_type": "execute_result"
    }
   ],
   "source": [
    "X.head()"
   ]
  },
  {
   "cell_type": "code",
   "execution_count": 18,
   "id": "495c7beb-eaf9-4dfa-b6e4-05f4cfa90672",
   "metadata": {},
   "outputs": [
    {
     "data": {
      "text/plain": [
       "is_fraud\n",
       "0    553574\n",
       "1    553574\n",
       "Name: count, dtype: int64"
      ]
     },
     "execution_count": 18,
     "metadata": {},
     "output_type": "execute_result"
    }
   ],
   "source": [
    "# Handling imbalanced data with SMOTE\n",
    "from imblearn.over_sampling import SMOTE\n",
    "X_res,y_res=SMOTE().fit_resample(X,y)\n",
    "y_res.value_counts()"
   ]
  },
  {
   "cell_type": "code",
   "execution_count": null,
   "id": "a74c0031-bdf8-400c-a191-3f68a9a76483",
   "metadata": {},
   "outputs": [],
   "source": []
  },
  {
   "cell_type": "code",
   "execution_count": 19,
   "id": "72920faa-f71e-4655-be05-37918eec0be2",
   "metadata": {},
   "outputs": [],
   "source": [
    "X_train,X_test,y_train,y_test=train_test_split(X,y,test_size=0.2,random_state=2)"
   ]
  },
  {
   "cell_type": "code",
   "execution_count": null,
   "id": "ae4d8ace-adc7-4ff4-a060-4c61717fe827",
   "metadata": {},
   "outputs": [],
   "source": []
  },
  {
   "cell_type": "markdown",
   "id": "60e1ba18-e67b-49c3-8132-3e84c7293bcb",
   "metadata": {},
   "source": [
    "### Feature Scaling"
   ]
  },
  {
   "cell_type": "code",
   "execution_count": 20,
   "id": "b0c51615-b127-419a-8d32-fa14ebae35d3",
   "metadata": {},
   "outputs": [
    {
     "data": {
      "text/plain": [
       "array([[ 0.96260043,  0.55844514, -0.90636563, ..., -0.21921394,\n",
       "         1.48338017, -1.71351681],\n",
       "       [-1.59329162,  0.4344708 , -0.90636563, ..., -0.28834835,\n",
       "         1.03607319,  0.60258706],\n",
       "       [-0.5709348 ,  0.2624818 ,  1.1033075 , ..., -0.29074021,\n",
       "        -0.02719751, -0.68197475],\n",
       "       ...,\n",
       "       [ 0.70701122,  0.48972576,  1.1033075 , ..., -0.27415021,\n",
       "        -0.84114955, -1.00895412],\n",
       "       [ 0.96260043, -0.29432305,  1.1033075 , ..., -0.28966903,\n",
       "        -0.33517936, -1.23472559],\n",
       "       [-0.05975639,  0.06242075,  1.1033075 , ..., -0.28723392,\n",
       "        -1.17113011,  0.58701662]])"
      ]
     },
     "execution_count": 20,
     "metadata": {},
     "output_type": "execute_result"
    }
   ],
   "source": [
    "from sklearn.preprocessing import StandardScaler\n",
    "sc=StandardScaler()\n",
    "X_train=sc.fit_transform(X_train)\n",
    "X_test=sc.transform(X_test)\n",
    "X_train"
   ]
  },
  {
   "cell_type": "markdown",
   "id": "a0864bd4-868e-4bda-8072-efd7abb68fc9",
   "metadata": {},
   "source": [
    "### Logistic Regression"
   ]
  },
  {
   "cell_type": "code",
   "execution_count": 21,
   "id": "99b8e2ec-7b3d-455c-880a-d90c6ad228bc",
   "metadata": {},
   "outputs": [
    {
     "name": "stdout",
     "output_type": "stream",
     "text": [
      "0.9959691931188368\n"
     ]
    }
   ],
   "source": [
    "from sklearn.linear_model import LogisticRegression\n",
    "from sklearn.metrics import accuracy_score,precision_score,recall_score,f1_score\n",
    "LR = LogisticRegression()\n",
    "LR.fit(X_train,y_train)\n",
    "y_pred1 = LR.predict(X_test)\n",
    "print(accuracy_score(y_test,y_pred1))\n"
   ]
  },
  {
   "cell_type": "code",
   "execution_count": 23,
   "id": "485628fd-27aa-4d05-bcd4-e1fe1a6525e0",
   "metadata": {},
   "outputs": [
    {
     "name": "stdout",
     "output_type": "stream",
     "text": [
      "Confusion Matrix [[110696     40]\n",
      " [   408      0]]\n",
      "Classification Report\n",
      "              precision    recall  f1-score   support\n",
      "\n",
      "           0       1.00      1.00      1.00    110736\n",
      "           1       0.00      0.00      0.00       408\n",
      "\n",
      "    accuracy                           1.00    111144\n",
      "   macro avg       0.50      0.50      0.50    111144\n",
      "weighted avg       0.99      1.00      0.99    111144\n",
      "\n"
     ]
    }
   ],
   "source": [
    "conf_matrix=confusion_matrix(y_test,y_pred1)\n",
    "class_report = classification_report(y_test,y_pred1)\n",
    "\n",
    "\n",
    "print(\"Confusion Matrix\",conf_matrix)\n",
    "print(\"Classification Report\")\n",
    "print(class_report)\n"
   ]
  },
  {
   "cell_type": "code",
   "execution_count": 24,
   "id": "1bc5a248-dc5f-494b-a315-10b9a5298878",
   "metadata": {},
   "outputs": [],
   "source": [
    "from imblearn.under_sampling import RandomUnderSampler\n",
    "\n",
    "rus = RandomUnderSampler()\n",
    "X_resampled, y_resampled = rus.fit_resample(X, y)\n"
   ]
  },
  {
   "cell_type": "code",
   "execution_count": 25,
   "id": "7c42e989-6b39-400e-adad-e0b84f3ea0d7",
   "metadata": {},
   "outputs": [
    {
     "name": "stdout",
     "output_type": "stream",
     "text": [
      "0.9419761750521846\n"
     ]
    }
   ],
   "source": [
    "from sklearn.linear_model import LogisticRegression\n",
    "\n",
    "LR1 = LogisticRegression(class_weight='balanced')\n",
    "LR1.fit(X_train, y_train)\n",
    "y_pred2 = LR1.predict(X_test)\n",
    "print(accuracy_score(y_test,y_pred2))"
   ]
  },
  {
   "cell_type": "code",
   "execution_count": 26,
   "id": "6c3491e3-3e3b-49d3-937a-a5755d0fed92",
   "metadata": {},
   "outputs": [
    {
     "name": "stdout",
     "output_type": "stream",
     "text": [
      "Confusion Matrix [[104392   6344]\n",
      " [   105    303]]\n",
      "Classification Report\n",
      "              precision    recall  f1-score   support\n",
      "\n",
      "           0       1.00      0.94      0.97    110736\n",
      "           1       0.05      0.74      0.09       408\n",
      "\n",
      "    accuracy                           0.94    111144\n",
      "   macro avg       0.52      0.84      0.53    111144\n",
      "weighted avg       1.00      0.94      0.97    111144\n",
      "\n"
     ]
    }
   ],
   "source": [
    "conf_matrix=confusion_matrix(y_test,y_pred2)\n",
    "class_report = classification_report(y_test,y_pred2)\n",
    "\n",
    "\n",
    "print(\"Confusion Matrix\",conf_matrix)\n",
    "print(\"Classification Report\")\n",
    "print(class_report)\n"
   ]
  },
  {
   "cell_type": "markdown",
   "id": "1010d432-c12a-4c36-9454-d88370a1747c",
   "metadata": {},
   "source": [
    "### Random Forest Classifier"
   ]
  },
  {
   "cell_type": "code",
   "execution_count": 27,
   "id": "b583f462-44d0-4ed8-a756-b6a8b14e458d",
   "metadata": {},
   "outputs": [
    {
     "name": "stdout",
     "output_type": "stream",
     "text": [
      "0.9981645432951847\n"
     ]
    }
   ],
   "source": [
    "from sklearn.ensemble import RandomForestClassifier\n",
    "\n",
    "RF = RandomForestClassifier()\n",
    "RF.fit(X_train, y_train)\n",
    "y_pred3 = RF.predict(X_test)\n",
    "print(accuracy_score(y_test,y_pred3))"
   ]
  },
  {
   "cell_type": "code",
   "execution_count": 28,
   "id": "36b4bb1e-1902-4658-9c03-6e76b6f40aee",
   "metadata": {},
   "outputs": [
    {
     "name": "stdout",
     "output_type": "stream",
     "text": [
      "Confusion Matrix [[104392   6344]\n",
      " [   105    303]]\n",
      "Classification Report\n",
      "              precision    recall  f1-score   support\n",
      "\n",
      "           0       1.00      0.94      0.97    110736\n",
      "           1       0.05      0.74      0.09       408\n",
      "\n",
      "    accuracy                           0.94    111144\n",
      "   macro avg       0.52      0.84      0.53    111144\n",
      "weighted avg       1.00      0.94      0.97    111144\n",
      "\n"
     ]
    }
   ],
   "source": [
    "conf_matrix=confusion_matrix(y_test,y_pred2)\n",
    "class_report = classification_report(y_test,y_pred2)\n",
    "\n",
    "\n",
    "print(\"Confusion Matrix\",conf_matrix)\n",
    "print(\"Classification Report\")\n",
    "print(class_report)"
   ]
  },
  {
   "cell_type": "markdown",
   "id": "69ddfb6b-1b96-4ff1-ba2d-4591f5d50bf6",
   "metadata": {},
   "source": [
    "### Decision Tree Classifier"
   ]
  },
  {
   "cell_type": "code",
   "execution_count": 29,
   "id": "27669ba9-16f6-4290-84c8-5591f2ead804",
   "metadata": {},
   "outputs": [
    {
     "name": "stdout",
     "output_type": "stream",
     "text": [
      "0.9970308788598575\n"
     ]
    }
   ],
   "source": [
    "from sklearn.tree import DecisionTreeClassifier\n",
    "dt = DecisionTreeClassifier()\n",
    "dt.fit(X_train,y_train)\n",
    "y_pred4 = dt.predict(X_test)\n",
    "print(accuracy_score(y_test,y_pred4))\n"
   ]
  },
  {
   "cell_type": "code",
   "execution_count": 30,
   "id": "270d0fea-226e-4dcf-a156-c918f06d9501",
   "metadata": {},
   "outputs": [
    {
     "name": "stdout",
     "output_type": "stream",
     "text": [
      "Confusion Matrix [[110562    174]\n",
      " [   156    252]]\n",
      "Classification Report\n",
      "              precision    recall  f1-score   support\n",
      "\n",
      "           0       1.00      1.00      1.00    110736\n",
      "           1       0.59      0.62      0.60       408\n",
      "\n",
      "    accuracy                           1.00    111144\n",
      "   macro avg       0.80      0.81      0.80    111144\n",
      "weighted avg       1.00      1.00      1.00    111144\n",
      "\n"
     ]
    }
   ],
   "source": [
    "conf_matrix=confusion_matrix(y_test,y_pred4)\n",
    "class_report = classification_report(y_test,y_pred4)\n",
    "\n",
    "\n",
    "print(\"Confusion Matrix\",conf_matrix)\n",
    "print(\"Classification Report\")\n",
    "print(class_report)"
   ]
  },
  {
   "cell_type": "code",
   "execution_count": 31,
   "id": "fa70c638-58dd-45b5-abfc-0d0083faf762",
   "metadata": {},
   "outputs": [],
   "source": [
    "final_data=pd.DataFrame({'Models':['LR','LR1','RF','dt'],\n",
    "                         'ACC':[accuracy_score(y_test,y_pred1),\n",
    "                                accuracy_score(y_test,y_pred2),\n",
    "                                accuracy_score(y_test,y_pred3),\n",
    "                                accuracy_score(y_test,y_pred4)]})"
   ]
  },
  {
   "cell_type": "code",
   "execution_count": 32,
   "id": "3bfbc633-eac1-453a-b47d-82bd9a4d7c61",
   "metadata": {},
   "outputs": [
    {
     "data": {
      "text/html": [
       "<div>\n",
       "<style scoped>\n",
       "    .dataframe tbody tr th:only-of-type {\n",
       "        vertical-align: middle;\n",
       "    }\n",
       "\n",
       "    .dataframe tbody tr th {\n",
       "        vertical-align: top;\n",
       "    }\n",
       "\n",
       "    .dataframe thead th {\n",
       "        text-align: right;\n",
       "    }\n",
       "</style>\n",
       "<table border=\"1\" class=\"dataframe\">\n",
       "  <thead>\n",
       "    <tr style=\"text-align: right;\">\n",
       "      <th></th>\n",
       "      <th>Models</th>\n",
       "      <th>ACC</th>\n",
       "    </tr>\n",
       "  </thead>\n",
       "  <tbody>\n",
       "    <tr>\n",
       "      <th>0</th>\n",
       "      <td>LR</td>\n",
       "      <td>0.995969</td>\n",
       "    </tr>\n",
       "    <tr>\n",
       "      <th>1</th>\n",
       "      <td>LR1</td>\n",
       "      <td>0.941976</td>\n",
       "    </tr>\n",
       "    <tr>\n",
       "      <th>2</th>\n",
       "      <td>RF</td>\n",
       "      <td>0.998165</td>\n",
       "    </tr>\n",
       "    <tr>\n",
       "      <th>3</th>\n",
       "      <td>dt</td>\n",
       "      <td>0.997031</td>\n",
       "    </tr>\n",
       "  </tbody>\n",
       "</table>\n",
       "</div>"
      ],
      "text/plain": [
       "  Models       ACC\n",
       "0     LR  0.995969\n",
       "1    LR1  0.941976\n",
       "2     RF  0.998165\n",
       "3     dt  0.997031"
      ]
     },
     "execution_count": 32,
     "metadata": {},
     "output_type": "execute_result"
    }
   ],
   "source": [
    "final_data"
   ]
  },
  {
   "cell_type": "code",
   "execution_count": 33,
   "id": "266d2fc2-2d81-4e65-83fe-cbbdf064ca58",
   "metadata": {},
   "outputs": [
    {
     "data": {
      "text/plain": [
       "<Axes: xlabel='Models', ylabel='ACC'>"
      ]
     },
     "execution_count": 33,
     "metadata": {},
     "output_type": "execute_result"
    },
    {
     "data": {
      "image/png": "[encoded data removed]",
      "text/plain": [
       "<Figure size 640x480 with 1 Axes>"
      ]
     },
     "metadata": {},
     "output_type": "display_data"
    }
   ],
   "source": [
    "import seaborn as sns\n",
    "sns.barplot(x='Models',y='ACC',data=final_data)"
   ]
  },
  {
   "cell_type": "markdown",
   "id": "aac80dc4-e511-4d16-a7c9-cb92f831d69e",
   "metadata": {},
   "source": [
    "### As Decision Tree has a good precision Score for both the class so it is good model for this data set "
   ]
  },
  {
   "cell_type": "code",
   "execution_count": null,
   "id": "50f7f956-602e-495b-a2a0-bfa208e31d47",
   "metadata": {},
   "outputs": [],
   "source": []
  }
 ],
 "metadata": {
  "kernelspec": {
   "display_name": "Python 3 (ipykernel)",
   "language": "python",
   "name": "python3"
  },
  "language_info": {
   "codemirror_mode": {
    "name": "ipython",
    "version": 3
   },
   "file_extension": ".py",
   "mimetype": "text/x-python",
   "name": "python",
   "nbconvert_exporter": "python",
   "pygments_lexer": "ipython3",
   "version": "3.11.7"
  }
 },
 "nbformat": 4,
 "nbformat_minor": 5
}
